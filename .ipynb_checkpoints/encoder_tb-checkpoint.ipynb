{
 "cells": [
  {
   "cell_type": "code",
   "execution_count": 1,
   "metadata": {},
   "outputs": [],
   "source": [
    "import os\n",
    "import sys\n",
    "import pandas as pd\n",
    "import tables as tb\n",
    "import numpy as np\n",
    "import multiprocessing as mp\n",
    "from functools import partial\n",
    "from SimLib import config_sim as CFG\n",
    "#from SimLib import DAQ_infinity as DAQ\n",
    "from SimLib import sipm_mapping as DAQ\n",
    "import matplotlib.pyplot as plt\n",
    "sys.path.append(\"../PETALO_analysis\")\n",
    "import fit_library as fit"
   ]
  },
  {
   "cell_type": "code",
   "execution_count": 2,
   "metadata": {
    "collapsed": true
   },
   "outputs": [],
   "source": [
    "def measure(event,**kargs):\n",
    "    \n",
    "    roi_size    = kargs['roi_size']   # = 32\n",
    "    roi_height  = kargs['roi_height'] # = 16\n",
    "    offset      = kargs['offset']     # int(sipm_polar[0,0])\n",
    "    radius      = kargs['radius']     # 161\n",
    "    SiPM_Matrix = kargs['SiPM_Matrix'] # with OFFSET !!!!\n",
    "    d_TE        = kargs['d_TE']\n",
    "    d_recons    = kargs['d_recons']\n",
    "    \n",
    "\n",
    "    max_sipm = np.argwhere(d_TE[event,:] == np.max(d_TE[event,:]))+offset\n",
    "    x_y  = np.argwhere(SiPM_Matrix == max_sipm[0])\n",
    "\n",
    "    # Build ROIs for subevents\n",
    "    roi_matrix1  = np.roll(SiPM_Matrix,roi_size//2-x_y[0,1],axis=1)[:,0:roi_size].astype(int)\n",
    "    roi_matrix2  = np.roll(SiPM_Matrix,roi_size//2-x_y[0,1]-SiPM_Matrix.shape[1]//2,axis=1)[:,0:roi_size].astype(int)\n",
    "\n",
    "    # Check if there is something on the opposite side\n",
    "    #if (np.max(d_TE[event,roi_matrix2-offset]) == 0):\n",
    "    #    roi_matrix2 = np.array([[]])\n",
    "\n",
    "    roi_center1 = roi_matrix1[ roi_height//2, roi_size//2 ]\n",
    "    roi_center2 = roi_matrix2[ roi_height//2, roi_size//2 ]\n",
    "\n",
    "    # Get subevent values\n",
    "    subevent1_o = d_TE[event,roi_matrix1-offset]\n",
    "    subevent1_r = d_recons[event,roi_matrix1-offset]\n",
    "    if (roi_matrix2.size > 0):\n",
    "        subevent2_o = d_TE[event,roi_matrix2-offset]\n",
    "        subevent2_r = d_recons[event,roi_matrix2-offset]\n",
    "    else:\n",
    "        subevent2_o = np.array([[]])\n",
    "        subevent2_r = np.array([[]])\n",
    "\n",
    "    # Measure parameters\n",
    "    # No need to normalize z\n",
    "    z_mean1_o =np.mean(subevent1_o*sipm_polar[roi_matrix1-offset,2])\n",
    "    z_mean2_o =np.mean(subevent2_o*sipm_polar[roi_matrix2-offset,2])\n",
    "    z_mean1_r =np.mean(subevent1_r*sipm_polar[roi_matrix1-offset,2])\n",
    "    z_mean2_r =np.mean(subevent2_r*sipm_polar[roi_matrix2-offset,2])\n",
    "\n",
    "    # Phi must me normalized to avoid -pi,+pi effects\n",
    "    phi_mean1_o = np.mean(subevent1_o*(sipm_polar[roi_matrix1-offset,3]-sipm_polar[roi_center1-offset,3]))\n",
    "    phi_mean2_o = np.mean(subevent2_o*(sipm_polar[roi_matrix2-offset,3]-sipm_polar[roi_center2-offset,3]))\n",
    "    phi_mean1_r = np.mean(subevent1_r*(sipm_polar[roi_matrix1-offset,3]-sipm_polar[roi_center1-offset,3]))\n",
    "    phi_mean2_r = np.mean(subevent2_r*(sipm_polar[roi_matrix2-offset,3]-sipm_polar[roi_center2-offset,3]))\n",
    "\n",
    "    z_std1_o   = np.sqrt(np.mean(subevent1_o*(sipm_polar[roi_matrix1-offset,2]-z_mean1_o)**2))\n",
    "    z_std2_o   = np.sqrt(np.mean(subevent2_o*(sipm_polar[roi_matrix2-offset,2]-z_mean2_o)**2))\n",
    "    z_std1_r   = np.sqrt(np.mean(subevent1_r*(sipm_polar[roi_matrix1-offset,2]-z_mean1_r)**2))\n",
    "    z_std2_r   = np.sqrt(np.mean(subevent2_r*(sipm_polar[roi_matrix2-offset,2]-z_mean2_r)**2))\n",
    "\n",
    "    phi_std1_o = np.sqrt(np.mean(subevent1_o*((sipm_polar[roi_matrix1-offset,3]-sipm_polar[roi_center1-offset,3]-phi_mean1_o)**2)))\n",
    "    phi_std2_o = np.sqrt(np.mean(subevent2_o*((sipm_polar[roi_matrix2-offset,3]-sipm_polar[roi_center2-offset,3]-phi_mean2_o)**2)))\n",
    "    phi_std1_r = np.sqrt(np.mean(subevent1_r*((sipm_polar[roi_matrix1-offset,3]-sipm_polar[roi_center1-offset,3]-phi_mean1_r)**2)))\n",
    "    phi_std2_r = np.sqrt(np.mean(subevent2_r*((sipm_polar[roi_matrix2-offset,3]-sipm_polar[roi_center2-offset,3]-phi_mean2_r)**2)))\n",
    "\n",
    "    phi_std1_cart_o = phi_std1_o * radius\n",
    "    phi_std2_cart_o = phi_std2_o * radius\n",
    "    phi_std1_cart_r = phi_std1_r * radius\n",
    "    phi_std2_cart_r = phi_std2_r * radius\n",
    "\n",
    "    sigma_comb1_o = np.sqrt(z_std1_o**2+phi_std1_cart_o**2)\n",
    "    sigma_comb2_o = np.sqrt(z_std2_o**2+phi_std2_cart_o**2)\n",
    "    sigma_comb1_r = np.sqrt(z_std1_r**2+phi_std1_cart_r**2)\n",
    "    sigma_comb2_r = np.sqrt(z_std2_r**2+phi_std2_cart_r**2)\n",
    "    \n",
    "    out_o, out_r = {},{}\n",
    "    \n",
    "    out_o['z_mean1']     = z_mean1_o        ; out_o['z_mean2']     = z_mean2_o\n",
    "    out_o['phi_mean1']   = phi_mean1_o      ; out_o['phi_mean2']   = phi_mean2_o\n",
    "    out_o['z_std1']      = z_std1_o         ; out_o['z_std2']      = z_std2_o\n",
    "    out_o['phi_std1']    = phi_std1_cart_o  ; out_o['phi_std2']    = phi_std2_cart_o\n",
    "    out_o['sigma_comb1'] = sigma_comb1_o    ; out_o['sigma_comb2'] = sigma_comb2_o\n",
    "    \n",
    "    out_r['z_mean1']     = z_mean1_r        ; out_r['z_mean2']     = z_mean2_r\n",
    "    out_r['phi_mean1']   = phi_mean1_r      ; out_r['phi_mean2']   = phi_mean2_r\n",
    "    out_r['z_std1']      = z_std1_r         ; out_r['z_std2']      = z_std2_r\n",
    "    out_r['phi_std1']    = phi_std1_cart_r  ; out_r['phi_std2']    = phi_std2_cart_r\n",
    "    out_r['sigma_comb1'] = sigma_comb1_r    ; out_r['sigma_comb2'] = sigma_comb2_r\n",
    "    \n",
    "    return out_o, out_r"
   ]
  },
  {
   "cell_type": "code",
   "execution_count": 3,
   "metadata": {
    "collapsed": true
   },
   "outputs": [],
   "source": [
    "json_file = \"test\"\n",
    "path      = \"/home/viherbos/DAQ_DATA/NEUTRINOS/PETit-ring/6mm_pitch/\""
   ]
  },
  {
   "cell_type": "code",
   "execution_count": 4,
   "metadata": {},
   "outputs": [
    {
     "name": "stdout",
     "output_type": "stream",
     "text": [
      "{u'ENVIRONMENT': {u'path_to_files': u'/home/viherbos/DAQ_DATA/NEUTRINOS/PETit-ring/6mm_pitch/', u'n_files': [0], u'file_name': u'p_OF_6mm', u'MC_file_name': u'full_ring_iradius15cm_depth3cm_pitch6mm_one_face', u'time_bin': 5, u'out_file_name': u'DAQ_OF6mm', u'temperature': 300, u'n_events': 5000, u'AUTOENCODER_file_name': u'Rafa_1UP.h5', u'MC_out_file_name': u'FASTDAQOUT_OF6mm_TEST', u'ch_rate': 7100000.0}, u'SIPM': {u'size': [1, 3, 3]}, u'TOPOLOGY': {u'radius_ext': 180, u'n_rows': 16, u'sipm_ext_row': 188, u'radius_int': 150, u'sipm_int_row': 0}, u'TOFPET': {u'TGAIN': 1, u'TE': 2, u'outlink_rate': 16250000.0, u'OUT_FIFO_depth': 256, u'n_channels': 64, u'IN_FIFO_depth': 4, u'MAX_WILKINSON_LATENCY': 5120}, u'L1': {u'L1_mapping_O': [9, 9, 9, 10, 10], u'frame_process': 5000, u'L1_mapping_I': [], u'L1_outrate': 2000000000.0, u'n_asics': 10, u'map_style': u'striped_3', u'FIFO_L1b_freq': 400000000.0, u'FIFO_L1a_freq': 400000000.0, u'FIFO_L1b_depth': 64, u'FIFO_L1a_depth': 32, u'buffer_size': 1024, u'TE': 3}}\n"
     ]
    }
   ],
   "source": [
    "SIM_CONT = CFG.SIM_DATA(filename=path+json_file+\".json\",read=True)"
   ]
  },
  {
   "cell_type": "code",
   "execution_count": 5,
   "metadata": {},
   "outputs": [],
   "source": [
    "d_recons = np.array(pd.read_hdf(SIM_CONT.data['ENVIRONMENT']['path_to_files']+ \\\n",
    "                       SIM_CONT.data['ENVIRONMENT']['MC_out_file_name']+\".0.h5\",\n",
    "                       key='MC_recons'))\n",
    "d_TE     = np.array(pd.read_hdf(SIM_CONT.data['ENVIRONMENT']['path_to_files']+ \\\n",
    "                       SIM_CONT.data['ENVIRONMENT']['MC_out_file_name']+\".0.h5\",\n",
    "                       key='MC_TE'))\n",
    "d_comp   = np.array(pd.read_hdf(SIM_CONT.data['ENVIRONMENT']['path_to_files']+ \\\n",
    "                       SIM_CONT.data['ENVIRONMENT']['MC_out_file_name']+\".0.h5\",\n",
    "                       key='MC_encoded'))\n"
   ]
  },
  {
   "cell_type": "markdown",
   "metadata": {},
   "source": [
    "## READ SENSOR POSITIONS & SiPM MAPPING"
   ]
  },
  {
   "cell_type": "code",
   "execution_count": 6,
   "metadata": {},
   "outputs": [],
   "source": [
    "sipm_cart = np.array(pd.read_hdf(SIM_CONT.data['ENVIRONMENT']['path_to_files']+ \\\n",
    "                       SIM_CONT.data['ENVIRONMENT']['MC_out_file_name']+\".0.h5\",\n",
    "                       key='sensors'))\n",
    "sipm_polar = np.zeros(sipm_cart.shape)\n",
    "# Columns -> [sensor,r,z,phi]\n",
    "sipm_polar[:,0] = sipm_cart[:,0]\n",
    "sipm_polar[:,1] = np.sqrt(np.square(sipm_cart[:,1])+np.square(sipm_cart[:,2]))\n",
    "sipm_polar[:,2] = sipm_cart[:,3]\n",
    "sipm_polar[:,3] = np.arctan2(sipm_cart[:,2],sipm_cart[:,1])\n",
    "\n",
    "#first_sipm = np.array(pd.read_hdf(SIM_CONT.data['ENVIRONMENT']['path_to_files']+ \\\n",
    "#                       SIM_CONT.data['ENVIRONMENT']['MC_out_file_name']+\".0.h5\",\n",
    "#                       key='iter1'))\n",
    "#first_sipm = first_sipm[:,6:8]\n"
   ]
  },
  {
   "cell_type": "code",
   "execution_count": 7,
   "metadata": {
    "scrolled": false
   },
   "outputs": [
    {
     "name": "stdout",
     "output_type": "stream",
     "text": [
      "Number of SiPM : 3008 \n",
      "Number of ASICS : 47 \n",
      "Minimum Number of L1 : 5 \n",
      "Available ASICS = 47\n",
      "Connected ASICS = 47\n",
      "Instanciated L1 = 5\n",
      "L1 number 0 has 9 ASICs\n",
      "L1 number 1 has 9 ASICs\n",
      "L1 number 2 has 9 ASICs\n",
      "L1 number 3 has 10 ASICs\n",
      "L1 number 4 has 10 ASICs\n",
      "\n",
      "------ORIGINAL RESULTS------\n",
      "\n",
      "sigma_comb2     0.0  \n",
      "sigma_comb1     12.2945412922\n",
      "phi_std1        7.15787458237\n",
      "phi_std2        0.0  \n",
      "phi_mean1       0.00522207259201\n",
      "phi_mean2       0.0  \n",
      "z_mean1         7.828125\n",
      "z_mean2         0.0  \n",
      "z_std2          0.0  \n",
      "z_std1          9.99602806365\n",
      "\n",
      "------ENCODED RESULTS------\n",
      "\n",
      "sigma_comb2     0.0  \n",
      "sigma_comb1     13.5808158932\n",
      "phi_std1        7.2310929218\n",
      "phi_std2        0.0  \n",
      "phi_mean1       0.000443980269423\n",
      "phi_mean2       0.0  \n",
      "z_mean1         11.092577298\n",
      "z_mean2         0.0  \n",
      "z_std2          0.0  \n",
      "z_std1          11.4956450659\n",
      "\n",
      "-------------------\n",
      "\n"
     ]
    }
   ],
   "source": [
    "# Get SiPM Mapping\n",
    "L1, I, SiPM_Matrix, topo = DAQ.SiPM_Mapping(SIM_CONT.data,SIM_CONT.data['L1']['map_style'])\n",
    "offset = int(sipm_polar[0,0])\n",
    "SiPM_Matrix = SiPM_Matrix + offset\n",
    "\n",
    "original,encoded = measure( event       = 32,\n",
    "                            roi_size    = 32,\n",
    "                            roi_height  = 16,\n",
    "                            offset      = offset,\n",
    "                            radius      = 161,\n",
    "                            SiPM_Matrix = SiPM_Matrix,\n",
    "                            d_TE        = d_TE,\n",
    "                            d_recons    = d_recons)\n",
    "\n",
    "print(\"\\n------ORIGINAL RESULTS------\\n\")\n",
    "for k,v in original.iteritems():\n",
    "    #label, num = v\n",
    "    print \"{:<15} {:<5}\".format(k,v)\n",
    "    \n",
    "print(\"\\n------ENCODED RESULTS------\\n\")\n",
    "for kr,vr in encoded.iteritems():\n",
    "    #label, num = v\n",
    "    print \"{:<15} {:<5}\".format(kr,vr)\n",
    "print(\"\\n-------------------\\n\")\n",
    "    \n",
    "\n"
   ]
  },
  {
   "cell_type": "code",
   "execution_count": 8,
   "metadata": {},
   "outputs": [
    {
     "name": "stdout",
     "output_type": "stream",
     "text": [
      "Number of SiPM : 3008 \n",
      "Number of ASICS : 47 \n",
      "Minimum Number of L1 : 5 \n",
      "Available ASICS = 47\n",
      "Connected ASICS = 47\n",
      "Instanciated L1 = 5\n",
      "L1 number 0 has 9 ASICs\n",
      "L1 number 1 has 9 ASICs\n",
      "L1 number 2 has 9 ASICs\n",
      "L1 number 3 has 10 ASICs\n",
      "L1 number 4 has 10 ASICs\n"
     ]
    }
   ],
   "source": [
    "orig_array=[]\n",
    "enco_array=[]\n",
    "n_files=[0]\n",
    "\n",
    "# Sensor Positions\n",
    "sipm_cart = np.array(pd.read_hdf(SIM_CONT.data['ENVIRONMENT']['path_to_files']+ \\\n",
    "                       SIM_CONT.data['ENVIRONMENT']['MC_out_file_name']+\".0.h5\",\n",
    "                       key='sensors'))\n",
    "sipm_polar = np.zeros(sipm_cart.shape)\n",
    "# Columns -> [sensor,r,z,phi]\n",
    "sipm_polar[:,0] = sipm_cart[:,0]\n",
    "sipm_polar[:,1] = np.sqrt(np.square(sipm_cart[:,1])+np.square(sipm_cart[:,2]))\n",
    "sipm_polar[:,2] = sipm_cart[:,3]\n",
    "sipm_polar[:,3] = np.arctan2(sipm_cart[:,2],sipm_cart[:,1])\n",
    "\n",
    "# Get SiPM Mapping\n",
    "L1, I, SiPM_Matrix, topo = DAQ.SiPM_Mapping(SIM_CONT.data,SIM_CONT.data['L1']['map_style'])\n",
    "offset = int(sipm_polar[0,0])\n",
    "SiPM_Matrix = SiPM_Matrix + offset\n",
    "\n",
    "\n",
    "for j in n_files:\n",
    "    d_recons = np.array(pd.read_hdf(SIM_CONT.data['ENVIRONMENT']['path_to_files']+ \\\n",
    "                       SIM_CONT.data['ENVIRONMENT']['MC_out_file_name'] + \".\" + str(j) + \".h5\",\n",
    "                       key='MC_recons'))\n",
    "    d_TE     = np.array(pd.read_hdf(SIM_CONT.data['ENVIRONMENT']['path_to_files']+ \\\n",
    "                       SIM_CONT.data['ENVIRONMENT']['MC_out_file_name'] + \".\" + str(j) + \".h5\",\n",
    "                       key='MC_TE'))\n",
    "    \n",
    "    for i in range(d_TE.shape[0]):\n",
    "    \n",
    "        original,encoded = measure( event       = i,\n",
    "                                    roi_size    = 32,\n",
    "                                    roi_height  = 16,\n",
    "                                    offset      = offset,\n",
    "                                    radius      = 161,\n",
    "                                    SiPM_Matrix = SiPM_Matrix,\n",
    "                                    d_TE        = d_TE,\n",
    "                                    d_recons    = d_recons)\n",
    "    \n",
    "        orig_array.append(original)\n",
    "        enco_array.append(encoded)\n",
    "    \n",
    "    "
   ]
  },
  {
   "cell_type": "code",
   "execution_count": 9,
   "metadata": {},
   "outputs": [],
   "source": [
    "orig_np = np.array([np.array(list(orig_array[i].values()),dtype=float) for i in range(len(orig_array))])\n",
    "enco_np = np.array([np.array(list(enco_array[i].values()),dtype=float) for i in range(len(enco_array))])\n",
    "#'sigma_comb2'|'sigma_comb1'|'phi_std1'|'phi_std2'|'phi_mean1'|'phi_mean2'|'z_mean1'|'z_mean2'|'z_std2'|'z_std1'  "
   ]
  },
  {
   "cell_type": "code",
   "execution_count": 27,
   "metadata": {},
   "outputs": [],
   "source": [
    "Error = np.sqrt(np.abs(orig_np**2-enco_np**2))"
   ]
  },
  {
   "cell_type": "code",
   "execution_count": 28,
   "metadata": {},
   "outputs": [],
   "source": [
    "z_m_err   = np.concatenate((Error[:,6],Error[:,7]))\n",
    "phi_m_err = np.concatenate((Error[:,4],Error[:,5]))\n",
    "phi_s_err = np.concatenate((Error[:,2],Error[:,3]))\n",
    "z_s_err   = np.concatenate((Error[:,8],Error[:,9]))"
   ]
  },
  {
   "cell_type": "code",
   "execution_count": 29,
   "metadata": {},
   "outputs": [],
   "source": [
    "z_m_err   = z_m_err[z_m_err>0]\n",
    "phi_m_err = phi_m_err[(phi_m_err>0) * (phi_m_err<0.05)]*161\n",
    "phi_s_err = phi_s_err[(phi_s_err>0) * phi_s_err<10]\n",
    "z_s_err   = z_s_err[z_s_err>0 ]"
   ]
  },
  {
   "cell_type": "code",
   "execution_count": 30,
   "metadata": {},
   "outputs": [
    {
     "name": "stdout",
     "output_type": "stream",
     "text": [
      "Fitting Problems\n",
      "Fitting Problems\n"
     ]
    }
   ],
   "source": [
    "err_fit = fit.gauss_fit()\n",
    "fig = plt.figure(figsize=(20,30))\n",
    "err_fit(z_m_err,'sqrt')\n",
    "err_fit.plot(axis = fig.add_subplot(321),\n",
    "                title = \"Z mean ERROR\",\n",
    "                xlabel = \"mm\",\n",
    "                ylabel = \"Hits\",\n",
    "                res = True, fit = True)\n",
    "err_fit(phi_m_err,20)\n",
    "err_fit.plot(axis = fig.add_subplot(322),\n",
    "                title = \"PHI mean ERROR\",\n",
    "                xlabel = \"mm\",\n",
    "                ylabel = \"Hits\",\n",
    "                res = True, fit = True)\n",
    "err_fit(z_s_err,20)\n",
    "err_fit.plot(axis = fig.add_subplot(323),\n",
    "                title = \"Z sigma ERROR\",\n",
    "                xlabel = \"mm\",\n",
    "                ylabel = \"Hits\",\n",
    "                res = True, fit = True)\n",
    "err_fit(phi_s_err,20)\n",
    "err_fit.plot(axis = fig.add_subplot(324),\n",
    "                title = \"PHI sigma ERROR\",\n",
    "                xlabel = \"mm\",\n",
    "                ylabel = \"Hits\",\n",
    "                res = True, fit = True)"
   ]
  },
  {
   "cell_type": "code",
   "execution_count": 31,
   "metadata": {},
   "outputs": [
    {
     "data": {
      "image/png": "[encoded data removed]",
      "text/plain": [
       "<Figure size 1440x2160 with 4 Axes>"
      ]
     },
     "metadata": {},
     "output_type": "display_data"
    }
   ],
   "source": [
    "plt.show()"
   ]
  },
  {
   "cell_type": "code",
   "execution_count": null,
   "metadata": {
    "collapsed": true
   },
   "outputs": [],
   "source": []
  },
  {
   "cell_type": "code",
   "execution_count": null,
   "metadata": {
    "collapsed": true
   },
   "outputs": [],
   "source": []
  }
 ],
 "metadata": {
  "kernelspec": {
   "display_name": "Python 2",
   "language": "python",
   "name": "python2"
  },
  "language_info": {
   "codemirror_mode": {
    "name": "ipython",
    "version": 2
   },
   "file_extension": ".py",
   "mimetype": "text/x-python",
   "name": "python",
   "nbconvert_exporter": "python",
   "pygments_lexer": "ipython2",
   "version": "2.7.14"
  }
 },
 "nbformat": 4,
 "nbformat_minor": 2
}
